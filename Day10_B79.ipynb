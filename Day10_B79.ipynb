{
 "cells": [
  {
   "cell_type": "code",
   "execution_count": null,
   "id": "6f8a2ede",
   "metadata": {},
   "outputs": [],
   "source": [
    "#Functions"
   ]
  },
  {
   "cell_type": "code",
   "execution_count": 11,
   "id": "e5e84e26",
   "metadata": {},
   "outputs": [],
   "source": [
    "def greet_user():\n",
    "    \"\"\"creating a greet function\"\"\"          #doc-string\n",
    "    print(\"Hello!\")"
   ]
  },
  {
   "cell_type": "code",
   "execution_count": 7,
   "id": "cd46a88a",
   "metadata": {},
   "outputs": [
    {
     "name": "stdout",
     "output_type": "stream",
     "text": [
      "Hello!\n"
     ]
    }
   ],
   "source": [
    "greet_user()"
   ]
  },
  {
   "cell_type": "code",
   "execution_count": null,
   "id": "ec68e146",
   "metadata": {},
   "outputs": [],
   "source": [
    "#enhancement of the code"
   ]
  },
  {
   "cell_type": "code",
   "execution_count": 17,
   "id": "d5e0dbc0",
   "metadata": {},
   "outputs": [],
   "source": [
    "def greet_user(username):\n",
    "    \"\"\"creating a greet function\"\"\"\n",
    "    print(f\"Hello!,{username}\")"
   ]
  },
  {
   "cell_type": "code",
   "execution_count": 18,
   "id": "4f9d54e9",
   "metadata": {},
   "outputs": [
    {
     "name": "stdout",
     "output_type": "stream",
     "text": [
      "Hello!,Sir\n"
     ]
    }
   ],
   "source": [
    "greet_user('Sir')"
   ]
  },
  {
   "cell_type": "code",
   "execution_count": 19,
   "id": "8c7c6a48",
   "metadata": {},
   "outputs": [
    {
     "name": "stdout",
     "output_type": "stream",
     "text": [
      "Hello!,Rajiv\n"
     ]
    }
   ],
   "source": [
    "greet_user('Rajiv')"
   ]
  },
  {
   "cell_type": "code",
   "execution_count": 20,
   "id": "c60706d0",
   "metadata": {},
   "outputs": [
    {
     "name": "stdout",
     "output_type": "stream",
     "text": [
      "Hello!,Mini\n"
     ]
    }
   ],
   "source": [
    "greet_user('Mini')"
   ]
  },
  {
   "cell_type": "code",
   "execution_count": null,
   "id": "4606371a",
   "metadata": {},
   "outputs": [],
   "source": [
    "#Type of arguments"
   ]
  },
  {
   "cell_type": "code",
   "execution_count": 29,
   "id": "171f3f23",
   "metadata": {},
   "outputs": [],
   "source": [
    "def describe_pet(animal_type,pet_name):\n",
    "    \"\"\"\"creating a function to describe pet\"\"\"\n",
    "    print(f\"I have a {animal_type}\\n\")\n",
    "    print(f\"My {animal_type}'s name is {pet_name}\")\n"
   ]
  },
  {
   "cell_type": "code",
   "execution_count": 30,
   "id": "0fa29949",
   "metadata": {},
   "outputs": [
    {
     "name": "stdout",
     "output_type": "stream",
     "text": [
      "I have a dog\n",
      "\n",
      "My dog's name is Mickey\n"
     ]
    }
   ],
   "source": [
    "describe_pet('dog','Mickey')"
   ]
  },
  {
   "cell_type": "code",
   "execution_count": 31,
   "id": "8162e76c",
   "metadata": {},
   "outputs": [
    {
     "name": "stdout",
     "output_type": "stream",
     "text": [
      "I have a cat\n",
      "\n",
      "My cat's name is Steffy\n"
     ]
    }
   ],
   "source": [
    "describe_pet('cat','Steffy')"
   ]
  },
  {
   "cell_type": "code",
   "execution_count": null,
   "id": "4ec6e591",
   "metadata": {},
   "outputs": [],
   "source": [
    "#keywords argument"
   ]
  },
  {
   "cell_type": "code",
   "execution_count": 32,
   "id": "f041fa72",
   "metadata": {},
   "outputs": [
    {
     "name": "stdout",
     "output_type": "stream",
     "text": [
      "I have a dog\n",
      "\n",
      "My dog's name is stuart\n"
     ]
    }
   ],
   "source": [
    "describe_pet(pet_name='stuart',animal_type='dog')"
   ]
  },
  {
   "cell_type": "code",
   "execution_count": null,
   "id": "f3eb9775",
   "metadata": {},
   "outputs": [],
   "source": [
    "#default arguments"
   ]
  },
  {
   "cell_type": "code",
   "execution_count": 33,
   "id": "33b172ab",
   "metadata": {},
   "outputs": [],
   "source": [
    "def describe_pet(pet_name,animal_type='dog'):\n",
    "    \"\"\"\"creating a function to describe pet\"\"\"\n",
    "    print(f\"I have a {animal_type}\\n\")\n",
    "    print(f\"My {animal_type}'s name is {pet_name}\")\n"
   ]
  },
  {
   "cell_type": "code",
   "execution_count": 34,
   "id": "6c9681e6",
   "metadata": {},
   "outputs": [
    {
     "name": "stdout",
     "output_type": "stream",
     "text": [
      "I have a dog\n",
      "\n",
      "My dog's name is Seon\n"
     ]
    }
   ],
   "source": [
    "describe_pet('Seon')"
   ]
  },
  {
   "cell_type": "code",
   "execution_count": null,
   "id": "09ad4eac",
   "metadata": {},
   "outputs": [],
   "source": [
    "#speculative/arbitary arguments:"
   ]
  },
  {
   "cell_type": "code",
   "execution_count": 47,
   "id": "f69842f3",
   "metadata": {},
   "outputs": [],
   "source": [
    "def make_pizza(*toppings):\n",
    "    \"\"\"creating a function to capture the toppings ordered\"\"\"\n",
    "    print(f\"Order of topping {toppings}\")"
   ]
  },
  {
   "cell_type": "code",
   "execution_count": 48,
   "id": "2667c445",
   "metadata": {},
   "outputs": [
    {
     "name": "stdout",
     "output_type": "stream",
     "text": [
      "Order of topping ('corn', 'onions')\n"
     ]
    }
   ],
   "source": [
    "make_pizza('corn','onions')"
   ]
  },
  {
   "cell_type": "code",
   "execution_count": null,
   "id": "20273291",
   "metadata": {},
   "outputs": [],
   "source": []
  },
  {
   "cell_type": "code",
   "execution_count": null,
   "id": "6871e33b",
   "metadata": {},
   "outputs": [],
   "source": []
  },
  {
   "cell_type": "code",
   "execution_count": null,
   "id": "c2dd6000",
   "metadata": {},
   "outputs": [],
   "source": []
  },
  {
   "cell_type": "code",
   "execution_count": null,
   "id": "572cec9f",
   "metadata": {},
   "outputs": [],
   "source": []
  },
  {
   "cell_type": "code",
   "execution_count": null,
   "id": "afd377b2",
   "metadata": {},
   "outputs": [],
   "source": []
  },
  {
   "cell_type": "code",
   "execution_count": null,
   "id": "dbd72a23",
   "metadata": {},
   "outputs": [],
   "source": []
  },
  {
   "cell_type": "code",
   "execution_count": null,
   "id": "831131bb",
   "metadata": {},
   "outputs": [],
   "source": []
  }
 ],
 "metadata": {
  "kernelspec": {
   "display_name": "Python 3 (ipykernel)",
   "language": "python",
   "name": "python3"
  },
  "language_info": {
   "codemirror_mode": {
    "name": "ipython",
    "version": 3
   },
   "file_extension": ".py",
   "mimetype": "text/x-python",
   "name": "python",
   "nbconvert_exporter": "python",
   "pygments_lexer": "ipython3",
   "version": "3.11.3"
  }
 },
 "nbformat": 4,
 "nbformat_minor": 5
}
