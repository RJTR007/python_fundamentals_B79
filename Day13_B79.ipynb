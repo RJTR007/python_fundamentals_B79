{
 "cells": [
  {
   "cell_type": "code",
   "execution_count": 4,
   "id": "5769af21",
   "metadata": {},
   "outputs": [
    {
     "name": "stdout",
     "output_type": "stream",
     "text": [
      "1\n",
      "2\n",
      "3\n",
      "4\n",
      "5\n"
     ]
    }
   ],
   "source": [
    "current_number=1\n",
    "\n",
    "while current_number<=5:\n",
    "    print(current_number)\n",
    "    current_number+=1\n"
   ]
  },
  {
   "cell_type": "code",
   "execution_count": 5,
   "id": "1aed5915",
   "metadata": {},
   "outputs": [],
   "source": [
    "prompt=\"\\nTell me something and i will repeat it back to you\"\n",
    "prompt+=\"\\nEnter quit to end the program\""
   ]
  },
  {
   "cell_type": "code",
   "execution_count": 7,
   "id": "8cbe0034",
   "metadata": {},
   "outputs": [
    {
     "name": "stdout",
     "output_type": "stream",
     "text": [
      "\n",
      "Tell me something and i will repeat it back to you\n",
      "Enter quit to end the programHi,How are you?\n",
      "Hi,How are you?\n",
      "\n",
      "Tell me something and i will repeat it back to you\n",
      "Enter quit to end the programgreetings to you\n",
      "greetings to you\n",
      "\n",
      "Tell me something and i will repeat it back to you\n",
      "Enter quit to end the programhello everyone\n",
      "hello everyone\n",
      "\n",
      "Tell me something and i will repeat it back to you\n",
      "Enter quit to end the programquit\n",
      "quit\n"
     ]
    }
   ],
   "source": [
    "message=\"\"\n",
    "while message!='quit':\n",
    "    message=input(prompt)\n",
    "    print(message)"
   ]
  },
  {
   "cell_type": "code",
   "execution_count": 18,
   "id": "27f218e1",
   "metadata": {},
   "outputs": [],
   "source": [
    "prompt=\"\\nPlease enter the name of the city you have visited:\"\n",
    "prompt+='\\nEnter quit to end the program'"
   ]
  },
  {
   "cell_type": "code",
   "execution_count": 19,
   "id": "97f33a3e",
   "metadata": {},
   "outputs": [
    {
     "name": "stdout",
     "output_type": "stream",
     "text": [
      "\n",
      "Please enter the name of the city you have visited:\n",
      "Enter quit to end the programHyderabad\n",
      "I'd love to go city Hyderabad!\n",
      "\n",
      "Please enter the name of the city you have visited:\n",
      "Enter quit to end the programChennai\n",
      "I'd love to go city Chennai!\n",
      "\n",
      "Please enter the name of the city you have visited:\n",
      "Enter quit to end the programMumbai\n",
      "I'd love to go city Mumbai!\n",
      "\n",
      "Please enter the name of the city you have visited:\n",
      "Enter quit to end the programquit\n"
     ]
    }
   ],
   "source": [
    "while True:\n",
    "    city = input(prompt)\n",
    "\n",
    "    if city =='quit':\n",
    "        break\n",
    "    else:\n",
    "        print(f\"I'd love to go city {city.title()}!\")\n",
    "    "
   ]
  },
  {
   "cell_type": "code",
   "execution_count": null,
   "id": "48cb41c5",
   "metadata": {},
   "outputs": [],
   "source": []
  },
  {
   "cell_type": "code",
   "execution_count": null,
   "id": "866c4579",
   "metadata": {},
   "outputs": [],
   "source": []
  },
  {
   "cell_type": "code",
   "execution_count": null,
   "id": "6d366e62",
   "metadata": {},
   "outputs": [],
   "source": []
  },
  {
   "cell_type": "code",
   "execution_count": null,
   "id": "c6cccec1",
   "metadata": {},
   "outputs": [],
   "source": []
  },
  {
   "cell_type": "code",
   "execution_count": null,
   "id": "bdb46db7",
   "metadata": {},
   "outputs": [],
   "source": []
  },
  {
   "cell_type": "code",
   "execution_count": null,
   "id": "8869692d",
   "metadata": {},
   "outputs": [],
   "source": []
  },
  {
   "cell_type": "code",
   "execution_count": null,
   "id": "65ffab14",
   "metadata": {},
   "outputs": [],
   "source": []
  },
  {
   "cell_type": "code",
   "execution_count": null,
   "id": "0bbfd9b3",
   "metadata": {},
   "outputs": [],
   "source": []
  },
  {
   "cell_type": "code",
   "execution_count": null,
   "id": "714cba81",
   "metadata": {},
   "outputs": [],
   "source": []
  },
  {
   "cell_type": "code",
   "execution_count": null,
   "id": "628a8013",
   "metadata": {},
   "outputs": [],
   "source": []
  },
  {
   "cell_type": "code",
   "execution_count": null,
   "id": "c3192ee9",
   "metadata": {},
   "outputs": [],
   "source": []
  },
  {
   "cell_type": "code",
   "execution_count": null,
   "id": "10bffba1",
   "metadata": {},
   "outputs": [],
   "source": []
  },
  {
   "cell_type": "code",
   "execution_count": null,
   "id": "f3c68e35",
   "metadata": {},
   "outputs": [],
   "source": []
  },
  {
   "cell_type": "code",
   "execution_count": null,
   "id": "f8279c70",
   "metadata": {},
   "outputs": [],
   "source": []
  },
  {
   "cell_type": "raw",
   "id": "8ca4f9f8",
   "metadata": {},
   "source": []
  }
 ],
 "metadata": {
  "kernelspec": {
   "display_name": "Python 3 (ipykernel)",
   "language": "python",
   "name": "python3"
  },
  "language_info": {
   "codemirror_mode": {
    "name": "ipython",
    "version": 3
   },
   "file_extension": ".py",
   "mimetype": "text/x-python",
   "name": "python",
   "nbconvert_exporter": "python",
   "pygments_lexer": "ipython3",
   "version": "3.11.3"
  }
 },
 "nbformat": 4,
 "nbformat_minor": 5
}
