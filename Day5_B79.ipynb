{
 "cells": [
  {
   "cell_type": "code",
   "execution_count": null,
   "id": "c8b5ac1d",
   "metadata": {},
   "outputs": [],
   "source": [
    "#organising with list datatype"
   ]
  },
  {
   "cell_type": "code",
   "execution_count": 11,
   "id": "cd0abd80",
   "metadata": {},
   "outputs": [],
   "source": [
    "cars=['suzuki','maruti','honda','kia','bmw','toyota','audi','benz']"
   ]
  },
  {
   "cell_type": "code",
   "execution_count": 13,
   "id": "437de565",
   "metadata": {},
   "outputs": [
    {
     "name": "stdout",
     "output_type": "stream",
     "text": [
      "['suzuki', 'maruti', 'honda', 'kia', 'bmw', 'toyota', 'audi', 'benz']\n"
     ]
    }
   ],
   "source": [
    "print(cars)"
   ]
  },
  {
   "cell_type": "code",
   "execution_count": 14,
   "id": "1ae94ff5",
   "metadata": {},
   "outputs": [
    {
     "data": {
      "text/plain": [
       "list"
      ]
     },
     "execution_count": 14,
     "metadata": {},
     "output_type": "execute_result"
    }
   ],
   "source": [
    "type(cars)"
   ]
  },
  {
   "cell_type": "code",
   "execution_count": 12,
   "id": "c20da6f3",
   "metadata": {},
   "outputs": [
    {
     "name": "stdout",
     "output_type": "stream",
     "text": [
      "['audi', 'benz', 'bmw', 'honda', 'kia', 'maruti', 'suzuki', 'toyota']\n"
     ]
    }
   ],
   "source": [
    "print(sorted(cars))"
   ]
  },
  {
   "cell_type": "code",
   "execution_count": 15,
   "id": "54a61476",
   "metadata": {},
   "outputs": [
    {
     "name": "stdout",
     "output_type": "stream",
     "text": [
      "['suzuki', 'maruti', 'honda', 'kia', 'bmw', 'toyota', 'audi', 'benz']\n"
     ]
    }
   ],
   "source": [
    "print(cars)\n"
   ]
  },
  {
   "cell_type": "code",
   "execution_count": 24,
   "id": "9250d6a7",
   "metadata": {},
   "outputs": [],
   "source": [
    "cars.sort()"
   ]
  },
  {
   "cell_type": "code",
   "execution_count": 25,
   "id": "bedc8742",
   "metadata": {},
   "outputs": [
    {
     "name": "stdout",
     "output_type": "stream",
     "text": [
      "['audi', 'benz', 'bmw', 'honda', 'kia', 'maruti', 'suzuki', 'toyota']\n"
     ]
    }
   ],
   "source": [
    "print(cars)"
   ]
  },
  {
   "cell_type": "code",
   "execution_count": 26,
   "id": "118ee464",
   "metadata": {},
   "outputs": [],
   "source": [
    "cars.reverse()"
   ]
  },
  {
   "cell_type": "code",
   "execution_count": 27,
   "id": "4f7552e7",
   "metadata": {},
   "outputs": [
    {
     "name": "stdout",
     "output_type": "stream",
     "text": [
      "['toyota', 'suzuki', 'maruti', 'kia', 'honda', 'bmw', 'benz', 'audi']\n"
     ]
    }
   ],
   "source": [
    "print(cars)"
   ]
  },
  {
   "cell_type": "code",
   "execution_count": 28,
   "id": "314e3c1f",
   "metadata": {},
   "outputs": [
    {
     "data": {
      "text/plain": [
       "8"
      ]
     },
     "execution_count": 28,
     "metadata": {},
     "output_type": "execute_result"
    }
   ],
   "source": [
    "len(cars)"
   ]
  },
  {
   "cell_type": "code",
   "execution_count": 30,
   "id": "6a9f6276",
   "metadata": {},
   "outputs": [],
   "source": [
    "students=['aditi','sara','monica','ramya','srividya','robin','justin','naveen','deepa']"
   ]
  },
  {
   "cell_type": "code",
   "execution_count": 31,
   "id": "92aa6112",
   "metadata": {},
   "outputs": [
    {
     "name": "stdout",
     "output_type": "stream",
     "text": [
      "['aditi', 'sara', 'monica', 'ramya', 'srividya', 'robin', 'justin', 'naveen', 'deepa']\n"
     ]
    }
   ],
   "source": [
    "print(students)"
   ]
  },
  {
   "cell_type": "code",
   "execution_count": 32,
   "id": "d59ddad7",
   "metadata": {},
   "outputs": [
    {
     "name": "stdout",
     "output_type": "stream",
     "text": [
      "['aditi']\n"
     ]
    }
   ],
   "source": [
    "print(students[0:1])"
   ]
  },
  {
   "cell_type": "code",
   "execution_count": 33,
   "id": "ee3271f0",
   "metadata": {},
   "outputs": [
    {
     "name": "stdout",
     "output_type": "stream",
     "text": [
      "['aditi', 'sara']\n"
     ]
    }
   ],
   "source": [
    "print(students[0:2])"
   ]
  },
  {
   "cell_type": "code",
   "execution_count": 34,
   "id": "c2ca349d",
   "metadata": {},
   "outputs": [
    {
     "name": "stdout",
     "output_type": "stream",
     "text": [
      "['monica', 'ramya', 'srividya']\n"
     ]
    }
   ],
   "source": [
    "print(students[2:5])"
   ]
  },
  {
   "cell_type": "code",
   "execution_count": 35,
   "id": "3fec4687",
   "metadata": {},
   "outputs": [
    {
     "name": "stdout",
     "output_type": "stream",
     "text": [
      "['sara', 'monica', 'ramya', 'srividya', 'robin', 'justin', 'naveen', 'deepa']\n"
     ]
    }
   ],
   "source": [
    "print(students[1:9])"
   ]
  },
  {
   "cell_type": "code",
   "execution_count": 36,
   "id": "d4e77c29",
   "metadata": {},
   "outputs": [
    {
     "name": "stdout",
     "output_type": "stream",
     "text": [
      "['aditi', 'ramya', 'justin']\n"
     ]
    }
   ],
   "source": [
    "print(students[0:9:3])"
   ]
  },
  {
   "cell_type": "code",
   "execution_count": 37,
   "id": "e833a6d6",
   "metadata": {},
   "outputs": [
    {
     "name": "stdout",
     "output_type": "stream",
     "text": [
      "['sara', 'monica', 'ramya', 'srividya']\n"
     ]
    }
   ],
   "source": [
    "print(students[1:5:1])"
   ]
  },
  {
   "cell_type": "code",
   "execution_count": 38,
   "id": "a2fe8bed",
   "metadata": {},
   "outputs": [
    {
     "name": "stdout",
     "output_type": "stream",
     "text": [
      "deepa\n"
     ]
    }
   ],
   "source": [
    "print(students[-1])"
   ]
  },
  {
   "cell_type": "code",
   "execution_count": 39,
   "id": "5dc73fb3",
   "metadata": {},
   "outputs": [
    {
     "name": "stdout",
     "output_type": "stream",
     "text": [
      "srividya\n"
     ]
    }
   ],
   "source": [
    "print(students[-5])"
   ]
  },
  {
   "cell_type": "code",
   "execution_count": 41,
   "id": "1ed5926b",
   "metadata": {},
   "outputs": [
    {
     "name": "stdout",
     "output_type": "stream",
     "text": [
      "aditi\n"
     ]
    }
   ],
   "source": [
    "print(students[-9])"
   ]
  },
  {
   "cell_type": "code",
   "execution_count": null,
   "id": "949f53ea",
   "metadata": {},
   "outputs": [],
   "source": []
  }
 ],
 "metadata": {
  "kernelspec": {
   "display_name": "Python 3 (ipykernel)",
   "language": "python",
   "name": "python3"
  },
  "language_info": {
   "codemirror_mode": {
    "name": "ipython",
    "version": 3
   },
   "file_extension": ".py",
   "mimetype": "text/x-python",
   "name": "python",
   "nbconvert_exporter": "python",
   "pygments_lexer": "ipython3",
   "version": "3.11.3"
  }
 },
 "nbformat": 4,
 "nbformat_minor": 5
}
