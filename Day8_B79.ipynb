{
 "cells": [
  {
   "cell_type": "code",
   "execution_count": null,
   "id": "0ae0253d",
   "metadata": {},
   "outputs": [],
   "source": [
    "#Dictionary is a combination of key value pairs"
   ]
  },
  {
   "cell_type": "code",
   "execution_count": 5,
   "id": "9da1b845",
   "metadata": {},
   "outputs": [],
   "source": [
    "alien={'color':'green','points':5}                     "
   ]
  },
  {
   "cell_type": "code",
   "execution_count": 6,
   "id": "2e055fe4",
   "metadata": {},
   "outputs": [
    {
     "name": "stdout",
     "output_type": "stream",
     "text": [
      "{'color': 'green', 'points': 5}\n"
     ]
    }
   ],
   "source": [
    "print(alien)"
   ]
  },
  {
   "cell_type": "code",
   "execution_count": 7,
   "id": "b0697732",
   "metadata": {},
   "outputs": [
    {
     "data": {
      "text/plain": [
       "dict"
      ]
     },
     "execution_count": 7,
     "metadata": {},
     "output_type": "execute_result"
    }
   ],
   "source": [
    "type(alien)"
   ]
  },
  {
   "cell_type": "code",
   "execution_count": null,
   "id": "39c815d6",
   "metadata": {},
   "outputs": [],
   "source": [
    "#accessing key value pairs"
   ]
  },
  {
   "cell_type": "code",
   "execution_count": 8,
   "id": "418a5890",
   "metadata": {},
   "outputs": [
    {
     "name": "stdout",
     "output_type": "stream",
     "text": [
      "5\n"
     ]
    }
   ],
   "source": [
    "print(alien['points'])"
   ]
  },
  {
   "cell_type": "code",
   "execution_count": null,
   "id": "0596d136",
   "metadata": {},
   "outputs": [],
   "source": [
    "#adding new key value pairs"
   ]
  },
  {
   "cell_type": "code",
   "execution_count": 9,
   "id": "c542d9c8",
   "metadata": {},
   "outputs": [],
   "source": [
    "alien['level']=1"
   ]
  },
  {
   "cell_type": "code",
   "execution_count": 10,
   "id": "13984ee8",
   "metadata": {},
   "outputs": [
    {
     "name": "stdout",
     "output_type": "stream",
     "text": [
      "{'color': 'green', 'points': 5, 'level': 1}\n"
     ]
    }
   ],
   "source": [
    "print(alien)"
   ]
  },
  {
   "cell_type": "code",
   "execution_count": null,
   "id": "3f788757",
   "metadata": {},
   "outputs": [],
   "source": [
    "#deleting key value pairs"
   ]
  },
  {
   "cell_type": "code",
   "execution_count": 11,
   "id": "9b973d9e",
   "metadata": {},
   "outputs": [],
   "source": [
    "del alien['points']"
   ]
  },
  {
   "cell_type": "code",
   "execution_count": 12,
   "id": "6efe9b80",
   "metadata": {},
   "outputs": [
    {
     "name": "stdout",
     "output_type": "stream",
     "text": [
      "{'color': 'green', 'level': 1}\n"
     ]
    }
   ],
   "source": [
    "print(alien)"
   ]
  },
  {
   "cell_type": "code",
   "execution_count": null,
   "id": "13186a54",
   "metadata": {},
   "outputs": [],
   "source": [
    "#implementation of for loop"
   ]
  },
  {
   "cell_type": "code",
   "execution_count": 13,
   "id": "0965bf45",
   "metadata": {},
   "outputs": [
    {
     "name": "stdout",
     "output_type": "stream",
     "text": [
      "color\n",
      "green\n",
      "level\n",
      "1\n"
     ]
    }
   ],
   "source": [
    "for k,v in alien.items():\n",
    "    print(k)\n",
    "    print(v)"
   ]
  },
  {
   "cell_type": "code",
   "execution_count": 15,
   "id": "59a51d38",
   "metadata": {},
   "outputs": [
    {
     "name": "stdout",
     "output_type": "stream",
     "text": [
      "key :color\n",
      "value:green\n",
      "key :level\n",
      "value:1\n"
     ]
    }
   ],
   "source": [
    "for k,v in alien.items():\n",
    "    print(f\"key :{k}\")\n",
    "    print(f\"value:{v}\")"
   ]
  },
  {
   "cell_type": "code",
   "execution_count": null,
   "id": "1d891e10",
   "metadata": {},
   "outputs": [],
   "source": [
    "#creating an account"
   ]
  },
  {
   "cell_type": "code",
   "execution_count": 16,
   "id": "9609f2d8",
   "metadata": {},
   "outputs": [],
   "source": [
    "user_name={'first_name':'Rajeet','last_name':'Jayan,','pass_wrd':'54231','dob':'01-05-2011',}"
   ]
  },
  {
   "cell_type": "code",
   "execution_count": 17,
   "id": "7c63e61a",
   "metadata": {},
   "outputs": [
    {
     "name": "stdout",
     "output_type": "stream",
     "text": [
      "{'first_name': 'Rajeet', 'last_name': 'Jayan,', 'pass_wrd': '54231', 'dob': '01-05-2011'}\n"
     ]
    }
   ],
   "source": [
    "print(user_name)"
   ]
  },
  {
   "cell_type": "code",
   "execution_count": 19,
   "id": "975cbb82",
   "metadata": {},
   "outputs": [],
   "source": [
    "user_name['location']='arch_cafe'"
   ]
  },
  {
   "cell_type": "code",
   "execution_count": 20,
   "id": "f3e720c9",
   "metadata": {},
   "outputs": [
    {
     "name": "stdout",
     "output_type": "stream",
     "text": [
      "{'first_name': 'Rajeet', 'last_name': 'Jayan,', 'pass_wrd': '54231', 'dob': '01-05-2011', 'location': 'arch_cafe'}\n"
     ]
    }
   ],
   "source": [
    "print(user_name)"
   ]
  },
  {
   "cell_type": "code",
   "execution_count": null,
   "id": "a3d6327d",
   "metadata": {},
   "outputs": [],
   "source": []
  },
  {
   "cell_type": "code",
   "execution_count": null,
   "id": "bec3df7a",
   "metadata": {},
   "outputs": [],
   "source": []
  },
  {
   "cell_type": "code",
   "execution_count": null,
   "id": "5c756622",
   "metadata": {},
   "outputs": [],
   "source": []
  }
 ],
 "metadata": {
  "kernelspec": {
   "display_name": "Python 3 (ipykernel)",
   "language": "python",
   "name": "python3"
  },
  "language_info": {
   "codemirror_mode": {
    "name": "ipython",
    "version": 3
   },
   "file_extension": ".py",
   "mimetype": "text/x-python",
   "name": "python",
   "nbconvert_exporter": "python",
   "pygments_lexer": "ipython3",
   "version": "3.11.3"
  }
 },
 "nbformat": 4,
 "nbformat_minor": 5
}
