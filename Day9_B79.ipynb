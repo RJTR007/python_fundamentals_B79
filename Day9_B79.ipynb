{
 "cells": [
  {
   "cell_type": "code",
   "execution_count": null,
   "id": "2f0f6f74",
   "metadata": {},
   "outputs": [],
   "source": [
    "#if else statement"
   ]
  },
  {
   "cell_type": "code",
   "execution_count": 1,
   "id": "7f7c65ec",
   "metadata": {},
   "outputs": [],
   "source": [
    "cars=['audi','suzuki','toyota','kia','bmw']"
   ]
  },
  {
   "cell_type": "code",
   "execution_count": 2,
   "id": "c62c989e",
   "metadata": {},
   "outputs": [
    {
     "name": "stdout",
     "output_type": "stream",
     "text": [
      "['audi', 'suzuki', 'toyota', 'kia', 'bmw']\n"
     ]
    }
   ],
   "source": [
    "print(cars)"
   ]
  },
  {
   "cell_type": "code",
   "execution_count": 4,
   "id": "6c8c6149",
   "metadata": {},
   "outputs": [
    {
     "name": "stdout",
     "output_type": "stream",
     "text": [
      "Audi\n",
      "Suzuki\n",
      "Toyota\n",
      "Kia\n",
      "BMW\n"
     ]
    }
   ],
   "source": [
    "for x in cars:\n",
    "    if x=='bmw':\n",
    "     print(x.upper())\n",
    "    else:\n",
    "     print(x.title())"
   ]
  },
  {
   "cell_type": "code",
   "execution_count": 5,
   "id": "a8aaf107",
   "metadata": {},
   "outputs": [
    {
     "name": "stdout",
     "output_type": "stream",
     "text": [
      "My favourite car is: AUDI\n",
      "Suzuki\n",
      "Toyota\n",
      "Kia\n",
      "Bmw\n"
     ]
    }
   ],
   "source": [
    "for x in cars:\n",
    "    if x=='audi':\n",
    "        print(\"My favourite car is:\",x.upper())\n",
    "    else:\n",
    "        print(x.title())"
   ]
  },
  {
   "cell_type": "code",
   "execution_count": null,
   "id": "1c011249",
   "metadata": {},
   "outputs": [],
   "source": [
    "#concept of Input"
   ]
  },
  {
   "cell_type": "code",
   "execution_count": 8,
   "id": "59acb3cb",
   "metadata": {},
   "outputs": [
    {
     "name": "stdout",
     "output_type": "stream",
     "text": [
      "Hi,How are you?:I am fine\n"
     ]
    }
   ],
   "source": [
    "message=input(\"Hi,How are you?:\")"
   ]
  },
  {
   "cell_type": "code",
   "execution_count": 10,
   "id": "13308435",
   "metadata": {},
   "outputs": [
    {
     "name": "stdout",
     "output_type": "stream",
     "text": [
      "what is your name:Rajeet\n",
      "\n",
      "Hello,Rajeet\n"
     ]
    }
   ],
   "source": [
    "name=input(\"what is your name:\")\n",
    "print(f\"\\nHello,{name}\")"
   ]
  },
  {
   "cell_type": "code",
   "execution_count": 18,
   "id": "4c2749fe",
   "metadata": {},
   "outputs": [
    {
     "name": "stdout",
     "output_type": "stream",
     "text": [
      "How old are you?17\n"
     ]
    }
   ],
   "source": [
    "age=input('How old are you?')\n",
    "age=int(age)"
   ]
  },
  {
   "cell_type": "code",
   "execution_count": 22,
   "id": "7e30d1f5",
   "metadata": {},
   "outputs": [
    {
     "name": "stdout",
     "output_type": "stream",
     "text": [
      "what is your age?17\n",
      "you are not eligible to vote\n"
     ]
    }
   ],
   "source": [
    "age=input(\"what is your age?\")\n",
    "age=int(age)\n",
    "if age>=18:\n",
    "    print(\"You are eligible to vote\")\n",
    "else:\n",
    "     print(\"you are not eligible to vote\")\n",
    "\n"
   ]
  },
  {
   "cell_type": "code",
   "execution_count": null,
   "id": "a5c0796b",
   "metadata": {},
   "outputs": [],
   "source": [
    "#Modulo operator"
   ]
  },
  {
   "cell_type": "code",
   "execution_count": 23,
   "id": "7c98175e",
   "metadata": {},
   "outputs": [
    {
     "data": {
      "text/plain": [
       "2"
      ]
     },
     "execution_count": 23,
     "metadata": {},
     "output_type": "execute_result"
    }
   ],
   "source": [
    "5%3\n"
   ]
  },
  {
   "cell_type": "code",
   "execution_count": 31,
   "id": "a93349f7",
   "metadata": {},
   "outputs": [
    {
     "data": {
      "text/plain": [
       "1"
      ]
     },
     "execution_count": 31,
     "metadata": {},
     "output_type": "execute_result"
    }
   ],
   "source": [
    "10%3"
   ]
  },
  {
   "cell_type": "code",
   "execution_count": null,
   "id": "95dfa64d",
   "metadata": {},
   "outputs": [],
   "source": [
    "#finding a number is odd or even"
   ]
  },
  {
   "cell_type": "code",
   "execution_count": 28,
   "id": "368952d8",
   "metadata": {},
   "outputs": [
    {
     "name": "stdout",
     "output_type": "stream",
     "text": [
      "Enter a number:10\n",
      "The number 10 is even\n"
     ]
    }
   ],
   "source": [
    "number=input(\"Enter a number:\")\n",
    "number=int(number)\n",
    "if number%2==0:\n",
    "    print(f\"The number {number} is even\")\n",
    "else:\n",
    "    print(f\"The number {number} is odd\")"
   ]
  },
  {
   "cell_type": "code",
   "execution_count": 30,
   "id": "307d4c28",
   "metadata": {},
   "outputs": [
    {
     "name": "stdout",
     "output_type": "stream",
     "text": [
      "Enter a number:5\n",
      "The number 5 is odd\n"
     ]
    }
   ],
   "source": [
    "number=input(\"Enter a number:\")\n",
    "number=int(number)\n",
    "if number%2==0:\n",
    "    print(f\"The number {number} is even\")\n",
    "else:\n",
    "    print(f\"The number {number} is odd\")"
   ]
  },
  {
   "cell_type": "code",
   "execution_count": null,
   "id": "848dc948",
   "metadata": {},
   "outputs": [],
   "source": []
  },
  {
   "cell_type": "code",
   "execution_count": null,
   "id": "d661a8c6",
   "metadata": {},
   "outputs": [],
   "source": []
  },
  {
   "cell_type": "code",
   "execution_count": null,
   "id": "61ba2566",
   "metadata": {},
   "outputs": [],
   "source": []
  },
  {
   "cell_type": "code",
   "execution_count": null,
   "id": "9e2a8940",
   "metadata": {},
   "outputs": [],
   "source": []
  },
  {
   "cell_type": "code",
   "execution_count": null,
   "id": "02c103b0",
   "metadata": {},
   "outputs": [],
   "source": []
  },
  {
   "cell_type": "code",
   "execution_count": null,
   "id": "54648962",
   "metadata": {},
   "outputs": [],
   "source": []
  },
  {
   "cell_type": "code",
   "execution_count": null,
   "id": "e17bcda8",
   "metadata": {},
   "outputs": [],
   "source": []
  },
  {
   "cell_type": "code",
   "execution_count": null,
   "id": "0c286141",
   "metadata": {},
   "outputs": [],
   "source": []
  }
 ],
 "metadata": {
  "kernelspec": {
   "display_name": "Python 3 (ipykernel)",
   "language": "python",
   "name": "python3"
  },
  "language_info": {
   "codemirror_mode": {
    "name": "ipython",
    "version": 3
   },
   "file_extension": ".py",
   "mimetype": "text/x-python",
   "name": "python",
   "nbconvert_exporter": "python",
   "pygments_lexer": "ipython3",
   "version": "3.11.3"
  }
 },
 "nbformat": 4,
 "nbformat_minor": 5
}
