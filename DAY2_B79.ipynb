{
 "cells": [
  {
   "cell_type": "code",
   "execution_count": 1,
   "id": "4885be07",
   "metadata": {},
   "outputs": [
    {
     "name": "stdout",
     "output_type": "stream",
     "text": [
      "Introduction to python programmimg\n"
     ]
    }
   ],
   "source": [
    "print(\"Introduction to python programmimg\")"
   ]
  },
  {
   "cell_type": "code",
   "execution_count": 3,
   "id": "8d65ccb6",
   "metadata": {},
   "outputs": [
    {
     "name": "stdout",
     "output_type": "stream",
     "text": [
      "Rajeet Jayan\n"
     ]
    }
   ],
   "source": [
    "name =\"Rajeet Jayan\" #declaring string using double quotes\n",
    "print(name)"
   ]
  },
  {
   "cell_type": "code",
   "execution_count": 4,
   "id": "1466f42a",
   "metadata": {},
   "outputs": [
    {
     "data": {
      "text/plain": [
       "str"
      ]
     },
     "execution_count": 4,
     "metadata": {},
     "output_type": "execute_result"
    }
   ],
   "source": [
    "type(name)  #printing the data type "
   ]
  },
  {
   "cell_type": "code",
   "execution_count": 5,
   "id": "b20664c5",
   "metadata": {},
   "outputs": [
    {
     "name": "stdout",
     "output_type": "stream",
     "text": [
      "Krishna Kumar\n"
     ]
    }
   ],
   "source": [
    "name ='krishna kumar' #declaring the string using single quote\n",
    "print(name.title())"
   ]
  },
  {
   "cell_type": "code",
   "execution_count": 6,
   "id": "484e1ea7",
   "metadata": {},
   "outputs": [
    {
     "name": "stdout",
     "output_type": "stream",
     "text": [
      "KRISHNA KUMAR\n"
     ]
    }
   ],
   "source": [
    "print(name.upper())  #printing the name in capital letters"
   ]
  },
  {
   "cell_type": "code",
   "execution_count": 7,
   "id": "5e211863",
   "metadata": {},
   "outputs": [
    {
     "name": "stdout",
     "output_type": "stream",
     "text": [
      "krishna kumar\n"
     ]
    }
   ],
   "source": [
    "print(name.lower())   #printing the name in lower case letters"
   ]
  },
  {
   "cell_type": "code",
   "execution_count": null,
   "id": "016be1fc",
   "metadata": {},
   "outputs": [],
   "source": []
  },
  {
   "cell_type": "code",
   "execution_count": null,
   "id": "192896f4",
   "metadata": {},
   "outputs": [],
   "source": []
  }
 ],
 "metadata": {
  "kernelspec": {
   "display_name": "Python 3 (ipykernel)",
   "language": "python",
   "name": "python3"
  },
  "language_info": {
   "codemirror_mode": {
    "name": "ipython",
    "version": 3
   },
   "file_extension": ".py",
   "mimetype": "text/x-python",
   "name": "python",
   "nbconvert_exporter": "python",
   "pygments_lexer": "ipython3",
   "version": "3.10.9"
  }
 },
 "nbformat": 4,
 "nbformat_minor": 5
}
