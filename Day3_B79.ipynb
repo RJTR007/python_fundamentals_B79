{
 "cells": [
  {
   "cell_type": "code",
   "execution_count": 2,
   "id": "b2cc2f6a",
   "metadata": {},
   "outputs": [],
   "source": [
    "firstname='rajeet'\n",
    "lastname='jayan'"
   ]
  },
  {
   "cell_type": "code",
   "execution_count": 3,
   "id": "622c8c42",
   "metadata": {},
   "outputs": [
    {
     "name": "stdout",
     "output_type": "stream",
     "text": [
      "rajeet jayan\n"
     ]
    }
   ],
   "source": [
    "print(firstname,lastname)"
   ]
  },
  {
   "cell_type": "code",
   "execution_count": 40,
   "id": "53643f01",
   "metadata": {},
   "outputs": [
    {
     "name": "stdout",
     "output_type": "stream",
     "text": [
      "sunil kumar\n"
     ]
    }
   ],
   "source": [
    "first_name=\"sunil\"    #f string\n",
    "last_name=\"kumar\"\n",
    "full_name=f\"{first_name} {last_name}\"\n",
    "print(full_name)"
   ]
  },
  {
   "cell_type": "code",
   "execution_count": 41,
   "id": "09af69c3",
   "metadata": {},
   "outputs": [
    {
     "name": "stdout",
     "output_type": "stream",
     "text": [
      "Sunil Kumar\n"
     ]
    }
   ],
   "source": [
    "print(full_name.title())"
   ]
  },
  {
   "cell_type": "code",
   "execution_count": 42,
   "id": "91a1f125",
   "metadata": {},
   "outputs": [
    {
     "name": "stdout",
     "output_type": "stream",
     "text": [
      "Congratulations,Sunil Kumar\n"
     ]
    }
   ],
   "source": [
    "message=f\"Congratulations,{full_name.title()}\"\n",
    "print(message)"
   ]
  },
  {
   "cell_type": "code",
   "execution_count": 29,
   "id": "4243a906",
   "metadata": {},
   "outputs": [
    {
     "name": "stdout",
     "output_type": "stream",
     "text": [
      "fav_lng:\n",
      "python\n",
      "java\n",
      "c\n",
      "c++\n"
     ]
    }
   ],
   "source": [
    "print(\"fav_lng:\\npython\\njava\\nc\\nc++\")  #new line delimiter"
   ]
  },
  {
   "cell_type": "code",
   "execution_count": 30,
   "id": "be4bf26f",
   "metadata": {},
   "outputs": [
    {
     "name": "stdout",
     "output_type": "stream",
     "text": [
      "fav_lng:\n",
      "\tpython\n",
      "\tjava\n",
      "\tc\n",
      "\tc++\n"
     ]
    }
   ],
   "source": [
    "print(\"fav_lng:\\n\\tpython\\n\\tjava\\n\\tc\\n\\tc++\")  #tab delimiter"
   ]
  },
  {
   "cell_type": "code",
   "execution_count": 33,
   "id": "170123a1",
   "metadata": {},
   "outputs": [
    {
     "name": "stdout",
     "output_type": "stream",
     "text": [
      "    Python\n"
     ]
    }
   ],
   "source": [
    "language1= '    Python'  \n",
    "print(language1)"
   ]
  },
  {
   "cell_type": "code",
   "execution_count": 34,
   "id": "a7e1062a",
   "metadata": {},
   "outputs": [
    {
     "name": "stdout",
     "output_type": "stream",
     "text": [
      "Python    \n"
     ]
    }
   ],
   "source": [
    "language2='Python    '\n",
    "print(language2)"
   ]
  },
  {
   "cell_type": "code",
   "execution_count": 35,
   "id": "49179446",
   "metadata": {},
   "outputs": [
    {
     "name": "stdout",
     "output_type": "stream",
     "text": [
      "    Python     \n"
     ]
    }
   ],
   "source": [
    "language3='    Python     '\n",
    "print(language3)"
   ]
  },
  {
   "cell_type": "code",
   "execution_count": 37,
   "id": "bd0b97cf",
   "metadata": {},
   "outputs": [
    {
     "data": {
      "text/plain": [
       "'Python'"
      ]
     },
     "execution_count": 37,
     "metadata": {},
     "output_type": "execute_result"
    }
   ],
   "source": [
    "language1.lstrip() #removing left whitespace"
   ]
  },
  {
   "cell_type": "code",
   "execution_count": 38,
   "id": "b784104e",
   "metadata": {},
   "outputs": [
    {
     "data": {
      "text/plain": [
       "'Python'"
      ]
     },
     "execution_count": 38,
     "metadata": {},
     "output_type": "execute_result"
    }
   ],
   "source": [
    "language2.rstrip()  #removing right whitespace"
   ]
  },
  {
   "cell_type": "code",
   "execution_count": 43,
   "id": "b0d37aa2",
   "metadata": {},
   "outputs": [
    {
     "data": {
      "text/plain": [
       "'Python'"
      ]
     },
     "execution_count": 43,
     "metadata": {},
     "output_type": "execute_result"
    }
   ],
   "source": [
    "language3.strip()  #removing whitespace from both left and right"
   ]
  },
  {
   "cell_type": "code",
   "execution_count": null,
   "id": "9795f2d8",
   "metadata": {},
   "outputs": [],
   "source": []
  }
 ],
 "metadata": {
  "kernelspec": {
   "display_name": "Python 3 (ipykernel)",
   "language": "python",
   "name": "python3"
  },
  "language_info": {
   "codemirror_mode": {
    "name": "ipython",
    "version": 3
   },
   "file_extension": ".py",
   "mimetype": "text/x-python",
   "name": "python",
   "nbconvert_exporter": "python",
   "pygments_lexer": "ipython3",
   "version": "3.11.3"
  }
 },
 "nbformat": 4,
 "nbformat_minor": 5
}
