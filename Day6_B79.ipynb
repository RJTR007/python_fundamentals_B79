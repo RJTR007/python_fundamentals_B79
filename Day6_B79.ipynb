{
 "cells": [
  {
   "cell_type": "code",
   "execution_count": 1,
   "id": "0341dd0c",
   "metadata": {},
   "outputs": [],
   "source": [
    "students=['rani','naveen','seema','heena','shweta']"
   ]
  },
  {
   "cell_type": "code",
   "execution_count": 2,
   "id": "65f5d315",
   "metadata": {},
   "outputs": [
    {
     "name": "stdout",
     "output_type": "stream",
     "text": [
      "['rani', 'naveen', 'seema', 'heena', 'shweta']\n"
     ]
    }
   ],
   "source": [
    "print(students)"
   ]
  },
  {
   "cell_type": "code",
   "execution_count": 3,
   "id": "35f6c4a7",
   "metadata": {},
   "outputs": [
    {
     "data": {
      "text/plain": [
       "list"
      ]
     },
     "execution_count": 3,
     "metadata": {},
     "output_type": "execute_result"
    }
   ],
   "source": [
    "type(students)"
   ]
  },
  {
   "cell_type": "code",
   "execution_count": 5,
   "id": "803c3f5b",
   "metadata": {},
   "outputs": [
    {
     "name": "stdout",
     "output_type": "stream",
     "text": [
      "keep up the good work,Rani\n"
     ]
    }
   ],
   "source": [
    "print(f\"keep up the good work,{students[0].title()}\")"
   ]
  },
  {
   "cell_type": "code",
   "execution_count": 6,
   "id": "53a5b501",
   "metadata": {},
   "outputs": [
    {
     "name": "stdout",
     "output_type": "stream",
     "text": [
      "Keep up the good work,Seema\n"
     ]
    }
   ],
   "source": [
    "print(f\"Keep up the good work,{students[2].title()}\")"
   ]
  },
  {
   "cell_type": "code",
   "execution_count": 10,
   "id": "a09ea2e9",
   "metadata": {},
   "outputs": [
    {
     "name": "stdout",
     "output_type": "stream",
     "text": [
      "Keep up the good work,rani\n",
      "Keep up the good work,naveen\n",
      "Keep up the good work,seema\n",
      "Keep up the good work,heena\n",
      "Keep up the good work,shweta\n"
     ]
    }
   ],
   "source": [
    "for a in students:\n",
    "    print(f\"Keep up the good work,{a}\")"
   ]
  },
  {
   "cell_type": "code",
   "execution_count": 11,
   "id": "82229677",
   "metadata": {},
   "outputs": [
    {
     "name": "stdout",
     "output_type": "stream",
     "text": [
      "keep up the good work,Rani\n",
      "keep up the good work,Naveen\n",
      "keep up the good work,Seema\n",
      "keep up the good work,Heena\n",
      "keep up the good work,Shweta\n"
     ]
    }
   ],
   "source": [
    "for a in students:\n",
    "    print(f\"keep up the good work,{a.title()}\")"
   ]
  },
  {
   "cell_type": "code",
   "execution_count": 12,
   "id": "cc4d140a",
   "metadata": {},
   "outputs": [
    {
     "name": "stdout",
     "output_type": "stream",
     "text": [
      "rani\n",
      "naveen\n",
      "seema\n",
      "heena\n",
      "shweta\n"
     ]
    }
   ],
   "source": [
    "for a in students:\n",
    "    print(a)"
   ]
  },
  {
   "cell_type": "code",
   "execution_count": 13,
   "id": "f46f4248",
   "metadata": {},
   "outputs": [
    {
     "name": "stdout",
     "output_type": "stream",
     "text": [
      "Rani\n",
      "Naveen\n",
      "Seema\n",
      "Heena\n",
      "Shweta\n"
     ]
    }
   ],
   "source": [
    "for a in students:\n",
    "    print(a.title())"
   ]
  },
  {
   "cell_type": "code",
   "execution_count": 14,
   "id": "82e98d9e",
   "metadata": {},
   "outputs": [
    {
     "name": "stdout",
     "output_type": "stream",
     "text": [
      "keep up the good work,Rani\n",
      "thanks for your participation,Rani\n",
      "keep up the good work,Naveen\n",
      "thanks for your participation,Naveen\n",
      "keep up the good work,Seema\n",
      "thanks for your participation,Seema\n",
      "keep up the good work,Heena\n",
      "thanks for your participation,Heena\n",
      "keep up the good work,Shweta\n",
      "thanks for your participation,Shweta\n"
     ]
    }
   ],
   "source": [
    "for a in students:\n",
    "    print(f\"keep up the good work,{a.title()}\")\n",
    "    print(f\"thanks for your participation,{a.title()}\")"
   ]
  },
  {
   "cell_type": "code",
   "execution_count": 16,
   "id": "ff3b5dc9",
   "metadata": {
    "scrolled": true
   },
   "outputs": [
    {
     "name": "stdout",
     "output_type": "stream",
     "text": [
      "Keep up the good work,Rani\n",
      "Thanks for your participation,Rani\n",
      "\n",
      "Keep up the good work,Naveen\n",
      "Thanks for your participation,Naveen\n",
      "\n",
      "Keep up the good work,Seema\n",
      "Thanks for your participation,Seema\n",
      "\n",
      "Keep up the good work,Heena\n",
      "Thanks for your participation,Heena\n",
      "\n",
      "Keep up the good work,Shweta\n",
      "Thanks for your participation,Shweta\n",
      "\n"
     ]
    }
   ],
   "source": [
    "for a in students:\n",
    "    print(f\"Keep up the good work,{a.title()}\")\n",
    "    print(f\"Thanks for your participation,{a.title()}\\n\")"
   ]
  },
  {
   "cell_type": "code",
   "execution_count": 23,
   "id": "bf06a23f",
   "metadata": {},
   "outputs": [],
   "source": [
    "a=(0,250)"
   ]
  },
  {
   "cell_type": "code",
   "execution_count": 24,
   "id": "23e833c8",
   "metadata": {},
   "outputs": [
    {
     "name": "stdout",
     "output_type": "stream",
     "text": [
      "0\n"
     ]
    }
   ],
   "source": [
    "print(a[0])"
   ]
  },
  {
   "cell_type": "code",
   "execution_count": 25,
   "id": "bb8a70fa",
   "metadata": {},
   "outputs": [
    {
     "name": "stdout",
     "output_type": "stream",
     "text": [
      "250\n"
     ]
    }
   ],
   "source": [
    "print(a[1])"
   ]
  },
  {
   "cell_type": "code",
   "execution_count": 26,
   "id": "04dba89a",
   "metadata": {},
   "outputs": [
    {
     "name": "stdout",
     "output_type": "stream",
     "text": [
      "0\n",
      "250\n"
     ]
    }
   ],
   "source": [
    "for x in a:\n",
    "    print(x)"
   ]
  },
  {
   "cell_type": "code",
   "execution_count": null,
   "id": "1c0537e5",
   "metadata": {},
   "outputs": [],
   "source": []
  },
  {
   "cell_type": "code",
   "execution_count": null,
   "id": "5fedb471",
   "metadata": {},
   "outputs": [],
   "source": []
  },
  {
   "cell_type": "code",
   "execution_count": null,
   "id": "b61c24f3",
   "metadata": {},
   "outputs": [],
   "source": []
  },
  {
   "cell_type": "code",
   "execution_count": null,
   "id": "73ffa537",
   "metadata": {},
   "outputs": [],
   "source": []
  },
  {
   "cell_type": "code",
   "execution_count": null,
   "id": "c5f485d5",
   "metadata": {},
   "outputs": [],
   "source": []
  }
 ],
 "metadata": {
  "kernelspec": {
   "display_name": "Python 3 (ipykernel)",
   "language": "python",
   "name": "python3"
  },
  "language_info": {
   "codemirror_mode": {
    "name": "ipython",
    "version": 3
   },
   "file_extension": ".py",
   "mimetype": "text/x-python",
   "name": "python",
   "nbconvert_exporter": "python",
   "pygments_lexer": "ipython3",
   "version": "3.11.3"
  }
 },
 "nbformat": 4,
 "nbformat_minor": 5
}
