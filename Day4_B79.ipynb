{
 "cells": [
  {
   "cell_type": "code",
   "execution_count": null,
   "id": "30822e0c",
   "metadata": {},
   "outputs": [],
   "source": [
    "#Introduction to list data type:"
   ]
  },
  {
   "cell_type": "code",
   "execution_count": 3,
   "id": "faac25cb",
   "metadata": {},
   "outputs": [],
   "source": [
    "students=['simi','sanju','naveen','vidya','greeshma','sonu']"
   ]
  },
  {
   "cell_type": "code",
   "execution_count": 4,
   "id": "772dcefe",
   "metadata": {},
   "outputs": [
    {
     "name": "stdout",
     "output_type": "stream",
     "text": [
      "['simi', 'sanju', 'naveen', 'vidya', 'greeshma', 'sonu']\n"
     ]
    }
   ],
   "source": [
    "print(students)"
   ]
  },
  {
   "cell_type": "code",
   "execution_count": 6,
   "id": "31e8ae07",
   "metadata": {},
   "outputs": [
    {
     "data": {
      "text/plain": [
       "list"
      ]
     },
     "execution_count": 6,
     "metadata": {},
     "output_type": "execute_result"
    }
   ],
   "source": [
    "type(students) # printing data type "
   ]
  },
  {
   "cell_type": "code",
   "execution_count": 9,
   "id": "50fe62eb",
   "metadata": {},
   "outputs": [
    {
     "name": "stdout",
     "output_type": "stream",
     "text": [
      "sanju\n"
     ]
    }
   ],
   "source": [
    "print(students[1])"
   ]
  },
  {
   "cell_type": "code",
   "execution_count": 12,
   "id": "a2fe3e15",
   "metadata": {},
   "outputs": [
    {
     "name": "stdout",
     "output_type": "stream",
     "text": [
      "Sanju\n"
     ]
    }
   ],
   "source": [
    "print(students[1].title())"
   ]
  },
  {
   "cell_type": "code",
   "execution_count": null,
   "id": "20dff55f",
   "metadata": {},
   "outputs": [],
   "source": [
    "#naveen name in the output"
   ]
  },
  {
   "cell_type": "code",
   "execution_count": 13,
   "id": "6b0b3b48",
   "metadata": {},
   "outputs": [
    {
     "name": "stdout",
     "output_type": "stream",
     "text": [
      "Naveen\n"
     ]
    }
   ],
   "source": [
    "print(students[2].title())"
   ]
  },
  {
   "cell_type": "code",
   "execution_count": 14,
   "id": "5531fab8",
   "metadata": {},
   "outputs": [
    {
     "name": "stdout",
     "output_type": "stream",
     "text": [
      "['simi', 'sanju', 'naveen', 'vidya', 'greeshma', 'sonu']\n"
     ]
    }
   ],
   "source": [
    "print(students)"
   ]
  },
  {
   "cell_type": "code",
   "execution_count": null,
   "id": "79c34d8f",
   "metadata": {},
   "outputs": [],
   "source": [
    "#adding 'deepa' to the list"
   ]
  },
  {
   "cell_type": "code",
   "execution_count": 20,
   "id": "fcd78dca",
   "metadata": {},
   "outputs": [],
   "source": [
    "students.append('deepa')"
   ]
  },
  {
   "cell_type": "code",
   "execution_count": 23,
   "id": "d01d7907",
   "metadata": {},
   "outputs": [],
   "source": [
    "del students[6]"
   ]
  },
  {
   "cell_type": "code",
   "execution_count": 24,
   "id": "06e13dae",
   "metadata": {},
   "outputs": [
    {
     "name": "stdout",
     "output_type": "stream",
     "text": [
      "['simi', 'sanju', 'naveen', 'vidya', 'greeshma', 'sonu', 'deepa', 'deepa']\n"
     ]
    }
   ],
   "source": [
    "print(students)"
   ]
  },
  {
   "cell_type": "code",
   "execution_count": 29,
   "id": "be65cfa2",
   "metadata": {},
   "outputs": [],
   "source": [
    "del students[6]"
   ]
  },
  {
   "cell_type": "code",
   "execution_count": 30,
   "id": "4bce423f",
   "metadata": {},
   "outputs": [
    {
     "name": "stdout",
     "output_type": "stream",
     "text": [
      "['simi', 'sanju', 'naveen', 'vidya', 'greeshma', 'sonu']\n"
     ]
    }
   ],
   "source": [
    "print(students)"
   ]
  },
  {
   "cell_type": "code",
   "execution_count": 31,
   "id": "62b29f78",
   "metadata": {},
   "outputs": [],
   "source": [
    "students.insert(2,'Rajesh')"
   ]
  },
  {
   "cell_type": "code",
   "execution_count": 32,
   "id": "7b28405e",
   "metadata": {},
   "outputs": [
    {
     "name": "stdout",
     "output_type": "stream",
     "text": [
      "['simi', 'sanju', 'Rajesh', 'naveen', 'vidya', 'greeshma', 'sonu']\n"
     ]
    }
   ],
   "source": [
    "print(students)"
   ]
  },
  {
   "cell_type": "code",
   "execution_count": 34,
   "id": "03fb2012",
   "metadata": {},
   "outputs": [
    {
     "data": {
      "text/plain": [
       "'rajesh'"
      ]
     },
     "execution_count": 34,
     "metadata": {},
     "output_type": "execute_result"
    }
   ],
   "source": [
    "students[2].lower()"
   ]
  },
  {
   "cell_type": "code",
   "execution_count": 35,
   "id": "2db315d4",
   "metadata": {},
   "outputs": [
    {
     "name": "stdout",
     "output_type": "stream",
     "text": [
      "['simi', 'sanju', 'Rajesh', 'naveen', 'vidya', 'greeshma', 'sonu']\n"
     ]
    }
   ],
   "source": [
    "print(students)"
   ]
  },
  {
   "cell_type": "code",
   "execution_count": null,
   "id": "0d873873",
   "metadata": {},
   "outputs": [],
   "source": [
    "# Replacing sanju with Sourab"
   ]
  },
  {
   "cell_type": "code",
   "execution_count": 36,
   "id": "82b695c6",
   "metadata": {},
   "outputs": [],
   "source": [
    "students[1]='sourab'"
   ]
  },
  {
   "cell_type": "code",
   "execution_count": 37,
   "id": "da672cf9",
   "metadata": {},
   "outputs": [
    {
     "name": "stdout",
     "output_type": "stream",
     "text": [
      "['simi', 'sourab', 'Rajesh', 'naveen', 'vidya', 'greeshma', 'sonu']\n"
     ]
    }
   ],
   "source": [
    "print(students)"
   ]
  },
  {
   "cell_type": "code",
   "execution_count": 38,
   "id": "b715b0c8",
   "metadata": {},
   "outputs": [],
   "source": [
    "a=students.pop()"
   ]
  },
  {
   "cell_type": "code",
   "execution_count": 39,
   "id": "118202cc",
   "metadata": {},
   "outputs": [
    {
     "name": "stdout",
     "output_type": "stream",
     "text": [
      "['simi', 'sourab', 'Rajesh', 'naveen', 'vidya', 'greeshma']\n"
     ]
    }
   ],
   "source": [
    "print(students)"
   ]
  },
  {
   "cell_type": "code",
   "execution_count": 40,
   "id": "0c67a849",
   "metadata": {},
   "outputs": [
    {
     "name": "stdout",
     "output_type": "stream",
     "text": [
      "sonu\n"
     ]
    }
   ],
   "source": [
    "print(a)"
   ]
  },
  {
   "cell_type": "code",
   "execution_count": 41,
   "id": "6e3162d5",
   "metadata": {},
   "outputs": [
    {
     "name": "stdout",
     "output_type": "stream",
     "text": [
      "Sonu\n"
     ]
    }
   ],
   "source": [
    "print(a.title())"
   ]
  },
  {
   "cell_type": "code",
   "execution_count": 43,
   "id": "1d111a79",
   "metadata": {},
   "outputs": [],
   "source": [
    "b=students.pop(3)"
   ]
  },
  {
   "cell_type": "code",
   "execution_count": 44,
   "id": "277960d7",
   "metadata": {},
   "outputs": [
    {
     "name": "stdout",
     "output_type": "stream",
     "text": [
      "['simi', 'sourab', 'Rajesh', 'vidya', 'greeshma']\n"
     ]
    }
   ],
   "source": [
    "print(students)"
   ]
  },
  {
   "cell_type": "code",
   "execution_count": 45,
   "id": "500d09af",
   "metadata": {},
   "outputs": [
    {
     "name": "stdout",
     "output_type": "stream",
     "text": [
      "Naveen\n"
     ]
    }
   ],
   "source": [
    "print(b.title())"
   ]
  },
  {
   "cell_type": "code",
   "execution_count": null,
   "id": "c58965fe",
   "metadata": {},
   "outputs": [],
   "source": []
  }
 ],
 "metadata": {
  "kernelspec": {
   "display_name": "Python 3 (ipykernel)",
   "language": "python",
   "name": "python3"
  },
  "language_info": {
   "codemirror_mode": {
    "name": "ipython",
    "version": 3
   },
   "file_extension": ".py",
   "mimetype": "text/x-python",
   "name": "python",
   "nbconvert_exporter": "python",
   "pygments_lexer": "ipython3",
   "version": "3.11.3"
  }
 },
 "nbformat": 4,
 "nbformat_minor": 5
}
